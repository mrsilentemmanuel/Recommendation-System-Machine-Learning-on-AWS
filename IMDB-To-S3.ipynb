{
 "cells": [
  {
   "cell_type": "code",
   "execution_count": 1,
   "metadata": {},
   "outputs": [],
   "source": [
    "import gzip\n",
    "import shutil\n",
    "import urllib.request"
   ]
  },
  {
   "cell_type": "code",
   "execution_count": 2,
   "metadata": {},
   "outputs": [],
   "source": [
    "def download_gz(url, filename):\n",
    "    \"\"\"\n",
    "    downloads a GunZip file from the url given and writes it to the local filesystem\n",
    "    :param url: the url of the GunZipped file to download\n",
    "    :param filename: the filename to write to the local filesystem\n",
    "    :return: None\n",
    "    \"\"\"\n",
    "    \n",
    "    if url is None or not url.endswith(\".gz\"):\n",
    "        raise ValueError(\"'url' is invalid\")\n",
    "    \n",
    "    print(f\"Downloading: {url}\")\n",
    "    \n",
    "    with urllib.request.urlopen(url) as response, open(filename, 'wb') as output_file:\n",
    "        with gzip.GzipFile(fileobj=response) as uncompressed:\n",
    "            shutil.copyfileobj(uncompressed, output_file)\n",
    "            \n",
    "            print(f\"Downloaded: {filename}\")\n",
    "            print()"
   ]
  },
  {
   "cell_type": "code",
   "execution_count": 3,
   "metadata": {},
   "outputs": [],
   "source": [
    "def s3_upload(filename):\n",
    "    \"\"\"\n",
    "    uploads a file from the local filesystem to S3\n",
    "    :param filename: the filename to write to upload to S3\n",
    "    :return: None\n",
    "    \"\"\"\n",
    "    \n",
    "    print(f\"Uploading: {filename}\")\n",
    "    \n",
    "    bucket_name = \"wheeler-cloud-guru-challenges\"\n",
    "    object_name = f\"1020/IMDB/{filename}\"\n",
    "    \n",
    "    !aws s3 cp \"{filename}\" \"s3://{bucket_name}/{object_name}\"\n",
    "    \n",
    "    print(f\"Uploaded: s3://{bucket_name}/{object_name}\")\n",
    "    print()"
   ]
  },
  {
   "cell_type": "code",
   "execution_count": 4,
   "metadata": {},
   "outputs": [],
   "source": [
    "imdb_root = \"https://datasets.imdbws.com\"\n",
    "imdb_sets = [\n",
    "    (\"name.basics.tsv.gz\"     , \"name_basics.tsv\"     ),\n",
    "    (\"title.akas.tsv.gz\"      , \"title_akas.tsv\"      ),\n",
    "    (\"title.basics.tsv.gz\"    , \"title_basics.tsv\"    ),\n",
    "    (\"title.crew.tsv.gz\"      , \"title_crew.tsv\"      ),\n",
    "    (\"title.episode.tsv.gz\"   , \"title_episode.tsv\"   ),\n",
    "    (\"title.principals.tsv.gz\", \"title_principals.tsv\"),\n",
    "    (\"title.ratings.tsv.gz\"   , \"title_ratings.tsv\"   )\n",
    "]"
   ]
  },
  {
   "cell_type": "code",
   "execution_count": 5,
   "metadata": {},
   "outputs": [
    {
     "name": "stdout",
     "output_type": "stream",
     "text": [
      "Downloading: https://datasets.imdbws.com/name.basics.tsv.gz\n",
      "Downloaded: name_basics.tsv\n",
      "\n",
      "Uploading: name_basics.tsv\n",
      "upload: ./name_basics.tsv to s3://wheeler-cloud-guru-challenges/1020/IMDB/name_basics.tsv\n",
      "Uploaded: s3://wheeler-cloud-guru-challenges/1020/IMDB/name_basics.tsv\n",
      "\n",
      "Downloading: https://datasets.imdbws.com/title.akas.tsv.gz\n",
      "Downloaded: title_akas.tsv\n",
      "\n",
      "Uploading: title_akas.tsv\n",
      "upload: ./title_akas.tsv to s3://wheeler-cloud-guru-challenges/1020/IMDB/title_akas.tsv\n",
      "Uploaded: s3://wheeler-cloud-guru-challenges/1020/IMDB/title_akas.tsv\n",
      "\n",
      "Downloading: https://datasets.imdbws.com/title.basics.tsv.gz\n",
      "Downloaded: title_basics.tsv\n",
      "\n",
      "Uploading: title_basics.tsv\n",
      "upload: ./title_basics.tsv to s3://wheeler-cloud-guru-challenges/1020/IMDB/title_basics.tsv\n",
      "Uploaded: s3://wheeler-cloud-guru-challenges/1020/IMDB/title_basics.tsv\n",
      "\n",
      "Downloading: https://datasets.imdbws.com/title.crew.tsv.gz\n",
      "Downloaded: title_crew.tsv\n",
      "\n",
      "Uploading: title_crew.tsv\n",
      "upload: ./title_crew.tsv to s3://wheeler-cloud-guru-challenges/1020/IMDB/title_crew.tsv\n",
      "Uploaded: s3://wheeler-cloud-guru-challenges/1020/IMDB/title_crew.tsv\n",
      "\n",
      "Downloading: https://datasets.imdbws.com/title.episode.tsv.gz\n",
      "Downloaded: title_episode.tsv\n",
      "\n",
      "Uploading: title_episode.tsv\n",
      "upload: ./title_episode.tsv to s3://wheeler-cloud-guru-challenges/1020/IMDB/title_episode.tsv\n",
      "Uploaded: s3://wheeler-cloud-guru-challenges/1020/IMDB/title_episode.tsv\n",
      "\n",
      "Downloading: https://datasets.imdbws.com/title.principals.tsv.gz\n",
      "Downloaded: title_principals.tsv\n",
      "\n",
      "Uploading: title_principals.tsv\n",
      "upload: ./title_principals.tsv to s3://wheeler-cloud-guru-challenges/1020/IMDB/title_principals.tsv\n",
      "Uploaded: s3://wheeler-cloud-guru-challenges/1020/IMDB/title_principals.tsv\n",
      "\n",
      "Downloading: https://datasets.imdbws.com/title.ratings.tsv.gz\n",
      "Downloaded: title_ratings.tsv\n",
      "\n",
      "Uploading: title_ratings.tsv\n",
      "upload: ./title_ratings.tsv to s3://wheeler-cloud-guru-challenges/1020/IMDB/title_ratings.tsv\n",
      "Uploaded: s3://wheeler-cloud-guru-challenges/1020/IMDB/title_ratings.tsv\n",
      "\n"
     ]
    }
   ],
   "source": [
    "for name_pair in imdb_sets:\n",
    "    src_name = name_pair[0]\n",
    "    dst_name = name_pair[1]\n",
    "    \n",
    "    download_gz(f\"{imdb_root}/{src_name}\", dst_name)\n",
    "    s3_upload(dst_name)"
   ]
  },
  {
   "cell_type": "code",
   "execution_count": null,
   "metadata": {},
   "outputs": [],
   "source": []
  }
 ],
 "metadata": {
  "kernelspec": {
   "display_name": "conda_python3",
   "language": "python",
   "name": "conda_python3"
  },
  "language_info": {
   "codemirror_mode": {
    "name": "ipython",
    "version": 3
   },
   "file_extension": ".py",
   "mimetype": "text/x-python",
   "name": "python",
   "nbconvert_exporter": "python",
   "pygments_lexer": "ipython3",
   "version": "3.6.10"
  }
 },
 "nbformat": 4,
 "nbformat_minor": 4
}
